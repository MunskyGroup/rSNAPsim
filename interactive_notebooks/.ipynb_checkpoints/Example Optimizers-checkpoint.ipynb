{
 "cells": [
  {
   "cell_type": "markdown",
   "metadata": {},
   "source": [
    "## Examples of how to use the optimization class\n",
    "\n",
    "First lets import all the modules needed and generate a solver object"
   ]
  },
  {
   "cell_type": "code",
   "execution_count": null,
   "metadata": {},
   "outputs": [],
   "source": [
    "import numpy as np\n",
    "import os\n",
    "os.chdir('..')\n",
    "\n",
    "from rss import rSNAPsim\n",
    "from rss import ProbeVectorFactory as pvf  \n",
    "from rss import PropensityFactory as pff\n",
    "from rss import TranslationSolvers as tss\n",
    "from rss import TranslationOptimization as topt\n",
    "from rss import IntensityData as data_obj\n",
    "from rss import IntensityAnalyses as int_a\n",
    "os.chdir('./interactive_notebooks')\n",
    "\n",
    "import matplotlib.pyplot as plt\n",
    "import time\n",
    "\n",
    "\n",
    "#Generate a solver object\n",
    "rsim = rSNAPsim()\n",
    "rsim.open_seq_file('../gene_files/Bactin_withTags.txt')  #open this sequence\n",
    "poi = rsim.proteins['1'][0]  #protein object\n",
    "solver = tss()  #solver class\n",
    "solver.protein=poi #give the solver access to the protein object\n",
    "t = np.linspace(0,500,501)\n"
   ]
  },
  {
   "cell_type": "markdown",
   "metadata": {},
   "source": [
    "### Lets generate a simulated data object with a specific parameter set"
   ]
  },
  {
   "cell_type": "code",
   "execution_count": null,
   "metadata": {
    "scrolled": false
   },
   "outputs": [],
   "source": [
    "\n",
    "ki = [.08]\n",
    "ke = [ 5]\n",
    "colors = ['r']\n",
    "i = 0\n",
    "      \n",
    "poi.ke_mu = ke[i] #half the speed\n",
    "solver.default_conditions['burnin'] = 1000 #lets burnin for 1000s\n",
    "solver.t = np.linspace(0,2000,2001)\n",
    "solver.n_traj = 30\n",
    "      \n",
    "t = np.linspace(0,2000,2001)\n",
    "ssa_soln = solver.solve_ssa([ki[i]] + poi.kelong + [10],t,n_traj=30)  \n",
    "      \n",
    "plt.plot(ssa_soln.intensity_vec[0],color=colors[i],alpha=.4)\n",
    "plt.title('Intensity Trajectories')\n",
    "plt.ylabel('Time')      \n",
    "      \n",
    "sim_data = data_obj()\n",
    "sim_data.add_data(ssa_soln.time,ssa_soln.intensity_vec)\n",
    "sim_data.get_stats()\n",
    "\n",
    "print(sim_data.__dict__.keys())"
   ]
  },
  {
   "cell_type": "code",
   "execution_count": null,
   "metadata": {},
   "outputs": [],
   "source": [
    "      \n",
    "sim_acov, sim_acov_err = int_a().get_autocov(sim_data.intensity_vec,norm='ind')\n",
    "sim_acc, sim_acc_err = int_a().get_autocorr(sim_acov)\n",
    "sim_data.acorr = sim_acc\n",
    "sim_data.acorr_err = sim_acc_err\n",
    "\n",
    "\n",
    "\n",
    "plt.figure()\n",
    "plt.plot(sim_data.times,sim_data.acorr[0], alpha=.1,color='b')\n",
    "plt.plot(sim_data.times,np.mean(sim_data.acorr[0],axis=1),color='r',lw=2)\n",
    "\n",
    "plt.title('Autocorrelation')\n",
    "plt.ylabel('Time')\n",
    "\n"
   ]
  },
  {
   "cell_type": "code",
   "execution_count": null,
   "metadata": {},
   "outputs": [],
   "source": []
  },
  {
   "cell_type": "code",
   "execution_count": null,
   "metadata": {},
   "outputs": [],
   "source": [
    "opt = topt()  #Optimization object\n",
    "opt.solver_obj = solver\n",
    "opt.data_obj = sim_data\n",
    "opt.parnames = ['ki','ke']\n",
    "true_par = [.08,5]\n",
    "opt.opts['bounds'] = ([0.01,.17],[0.1,12])\n",
    "\n",
    "opt.initial_params = np.array([.033,10])\n",
    "opt.params = np.array([.033,10])\n"
   ]
  },
  {
   "cell_type": "code",
   "execution_count": null,
   "metadata": {
    "scrolled": false
   },
   "outputs": [],
   "source": [
    "opt.args['LL_acorr'] = (200,'ind','G0')\n",
    "\n",
    "opt.run_optimization('LL_acorr','MH',stepsize=[1,1],disp=True,mut_rate=.99,logspace=True)\n"
   ]
  },
  {
   "cell_type": "code",
   "execution_count": null,
   "metadata": {},
   "outputs": [],
   "source": [
    "\n",
    "chain = opt.chain\n",
    "intensity = opt.intensity_fun(10**chain.bestpar)\n",
    "fit_acorr,fit_acorr_error = opt.autocorrelation_fun(intensity)\n",
    "fit_acorr = np.mean(fit_acorr[0],axis=1)\n",
    "\n",
    "plt.plot(fit_acorr,'b',lw=3)\n",
    "plt.plot(fit_acorr-fit_acorr_error[0],'b--')\n",
    "plt.plot(fit_acorr+fit_acorr_error[0],'b--')\n",
    "\n",
    "\n",
    "plt.plot(np.mean(opt.data_obj.acorr[0],axis=1),'r',lw=3)\n",
    "plt.plot(np.mean(opt.data_obj.acorr[0],axis=1) -opt.data_obj.acorr_err[0] ,'r--',lw=1)\n",
    "plt.plot(np.mean(opt.data_obj.acorr[0],axis=1) +opt.data_obj.acorr_err[0] ,'r--',lw=1)\n",
    "\n",
    "plt.plot([200,200],[-.3,1],'k--')"
   ]
  },
  {
   "cell_type": "code",
   "execution_count": null,
   "metadata": {},
   "outputs": [],
   "source": [
    "chain.parchain"
   ]
  },
  {
   "cell_type": "code",
   "execution_count": null,
   "metadata": {
    "scrolled": true
   },
   "outputs": [],
   "source": [
    "plt.scatter(chain.parchain[:,0],chain.parchain[:,1])\n",
    "plt.scatter([0.08],[5],color='red',s=150,marker='x')\n",
    "\n",
    "plt.figure()\n",
    "plt.plot(chain.evalchain)\n",
    "\n",
    "\n"
   ]
  },
  {
   "cell_type": "code",
   "execution_count": null,
   "metadata": {
    "scrolled": false
   },
   "outputs": [],
   "source": [
    "from matplotlib import cm\n",
    "from matplotlib.colors import ListedColormap, LinearSegmentedColormap\n",
    "\n",
    "viridis = cm.get_cmap('viridis', 2000)\n",
    "\n",
    "colors = chain.evalchain\n",
    "colors[colors>2000] = 2000\n",
    "viridis(colors)\n",
    "\n",
    "fig,ax = plt.subplots(1,1)\n",
    "a = ax.scatter(chain.parchain[1:,0],chain.parchain[1:,1], c = colors)\n",
    "ax.scatter([0.08],[5],color='red',s=150,marker='x',vmin=0, vmax=2000)\n",
    "\n",
    "\n",
    "fig.colorbar(a, ax=ax)\n",
    "ax.set_xlabel('Ki')\n",
    "ax.set_ylabel('Ke')"
   ]
  },
  {
   "cell_type": "code",
   "execution_count": null,
   "metadata": {},
   "outputs": [],
   "source": [
    "\n",
    "opt.args['LL_acorr'] = (200,'ind','G0')\n",
    "opt.run_optimization(['LL_acorr','I_mu_sse'],'MH',stepsize=[1,1],disp=True,mut_rate=.99)"
   ]
  },
  {
   "cell_type": "code",
   "execution_count": null,
   "metadata": {},
   "outputs": [],
   "source": [
    "chain_2obj = opt.chain\n",
    "intensity = opt.intensity_fun(10**chain_2obj.bestpar)\n",
    "fit_acorr,fit_acorr_error = opt.autocorrelation_fun(intensity)\n",
    "fit_acorr = np.mean(fit_acorr[0],axis=1)\n",
    "\n",
    "plt.plot(fit_acorr,'b',lw=3)\n",
    "plt.plot(fit_acorr-fit_acorr_error[0],'b--')\n",
    "plt.plot(fit_acorr+fit_acorr_error[0],'b--')\n",
    "\n",
    "\n",
    "plt.plot(np.mean(opt.data_obj.acorr[0],axis=1),'r',lw=3)\n",
    "plt.plot(np.mean(opt.data_obj.acorr[0],axis=1) -opt.data_obj.acorr_err[0] ,'r--',lw=1)\n",
    "plt.plot(np.mean(opt.data_obj.acorr[0],axis=1) +opt.data_obj.acorr_err[0] ,'r--',lw=1)\n",
    "\n",
    "plt.plot([200,200],[-.3,1],'k--')\n",
    "\n"
   ]
  },
  {
   "cell_type": "code",
   "execution_count": null,
   "metadata": {},
   "outputs": [],
   "source": [
    "from matplotlib import cm\n",
    "from matplotlib.colors import ListedColormap, LinearSegmentedColormap\n",
    "\n",
    "viridis = cm.get_cmap('viridis', 2000)\n",
    "\n",
    "colors = chain_2obj.evalchain\n",
    "colors[colors>2000] = 2000\n",
    "viridis(colors)\n",
    "\n",
    "fig,ax = plt.subplots(1,1)\n",
    "b = ax.scatter(chain_2obj.parchain[1:,0],chain_2obj.parchain[1:,1], c = colors)\n",
    "a = ax.scatter([0.08],[5],color='red',s=150,marker='x',vmin=0, vmax=2000)\n",
    "#a = ax.scatter([chain_2obj.bestpar[0]],[chain_2obj.bestpar[1]],color='cyan',s=50,marker='o',vmin=0, vmax=2000)\n",
    "\n",
    "fig.colorbar(b, ax=ax)\n",
    "ax.set_xlabel('Ki')\n",
    "ax.set_ylabel('Ke')"
   ]
  },
  {
   "cell_type": "code",
   "execution_count": null,
   "metadata": {},
   "outputs": [],
   "source": [
    "chain_2obj.parplot()"
   ]
  },
  {
   "cell_type": "code",
   "execution_count": null,
   "metadata": {},
   "outputs": [],
   "source": []
  }
 ],
 "metadata": {
  "kernelspec": {
   "display_name": "Python 3",
   "language": "python",
   "name": "python3"
  },
  "language_info": {
   "codemirror_mode": {
    "name": "ipython",
    "version": 3
   },
   "file_extension": ".py",
   "mimetype": "text/x-python",
   "name": "python",
   "nbconvert_exporter": "python",
   "pygments_lexer": "ipython3",
   "version": "3.6.10"
  }
 },
 "nbformat": 4,
 "nbformat_minor": 4
}
