{
 "cells": [
  {
   "cell_type": "code",
   "execution_count": 1,
   "metadata": {},
   "outputs": [
    {
     "name": "stdout",
     "output_type": "stream",
     "text": [
      "importing C++ models\n",
      "c++ models loaded successfully\n"
     ]
    }
   ],
   "source": [
    "#setup, lets load a large gene (HUMINSR) ~1700bp\n",
    "import numpy as np\n",
    "import os\n",
    "\n",
    "os.chdir('..')\n",
    "\n",
    "from rss import rSNAPsim\n",
    "from rss import ProbeVectorFactory as pvf\n",
    "from rss import PropensityFactory as pff\n",
    "from rss import TranslationSolvers as tss\n",
    "import matplotlib.pyplot as plt\n",
    "import time\n",
    "from rss import IntensityAnalyses as ia\n",
    "\n",
    "\n",
    "rsim = rSNAPsim()\n",
    "rsim.open_seq_file('./gene_files/HUMINSR.gb')\n",
    "\n",
    "poi = rsim.proteins['1'][0]  #protein object\n",
    "\n",
    "solver = tss()  #solver class\n",
    "solver.protein=poi\n",
    "\n",
    "t = np.linspace(0,500,501)\n"
   ]
  },
  {
   "cell_type": "code",
   "execution_count": null,
   "metadata": {},
   "outputs": [
    {
     "name": "stdout",
     "output_type": "stream",
     "text": [
      "C++ library failed, Using Python Implementation\n",
      "C++ library failed, Using Python Implementation\n"
     ]
    }
   ],
   "source": [
    "#Bursting Flags\n",
    "\n",
    "kbind = .033\n",
    "kstop = 10\n",
    "solver.cython_available  = False\n",
    "ssa_soln = solver.solve_ssa([kbind] + poi.kelong + [kstop],t,n_traj=10)\n",
    "\n",
    "ssa_soln_bursting = solver.solve_ssa([kbind*300] + poi.kelong + [kstop],t,n_traj=10, bursting=True, kon=.1, koff=15)\n",
    "\n",
    "plt.plot(ssa_soln.intensity_vec[0],color='green',alpha=.4)\n",
    "plt.plot(ssa_soln_bursting.intensity_vec[0],color='red',alpha=.4)\n",
    "plt.xlabel('time')\n",
    "plt.ylabel('intensity')\n",
    "\n",
    "plt.title('Green: Regular  Red: Bursting')\n",
    "\n"
   ]
  },
  {
   "cell_type": "code",
   "execution_count": 5,
   "metadata": {},
   "outputs": [
    {
     "data": {
      "text/plain": [
       "True"
      ]
     },
     "execution_count": 5,
     "metadata": {},
     "output_type": "execute_result"
    }
   ],
   "source": [
    "solver.cython_available #the flag if cython models are available"
   ]
  },
  {
   "cell_type": "code",
   "execution_count": null,
   "metadata": {},
   "outputs": [],
   "source": []
  }
 ],
 "metadata": {
  "kernelspec": {
   "display_name": "Python 3",
   "language": "python",
   "name": "python3"
  },
  "language_info": {
   "codemirror_mode": {
    "name": "ipython",
    "version": 3
   },
   "file_extension": ".py",
   "mimetype": "text/x-python",
   "name": "python",
   "nbconvert_exporter": "python",
   "pygments_lexer": "ipython3",
   "version": "3.6.10"
  }
 },
 "nbformat": 4,
 "nbformat_minor": 4
}
