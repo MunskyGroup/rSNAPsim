{
 "cells": [
  {
   "cell_type": "markdown",
   "metadata": {},
   "source": [
    "### Example Notebook of all SSA / ODE methods with N colors\n",
    "\n",
    "Lets load in an H2B construct with two different probe locations\n"
   ]
  },
  {
   "cell_type": "code",
   "execution_count": 1,
   "metadata": {},
   "outputs": [],
   "source": [
    "#setup, lets load a large gene (HUMINSR) ~1700bp\n",
    "import numpy as np\n",
    "import os\n",
    "\n",
    "os.chdir('..')\n",
    "\n",
    "from rss import rSNAPsim\n",
    "from rss import ProbeVectorFactory as pvf\n",
    "from rss import PropensityFactory as pff\n",
    "from rss import TranslationSolvers as tss\n",
    "import matplotlib.pyplot as plt\n",
    "import time\n",
    "os.chdir('./interactive_notebooks')\n",
    "\n",
    "rsim = rSNAPsim()\n",
    "rsim.open_seq_file('../gene_files/H2B_2tags.txt')\n",
    "\n",
    "poi = rsim.proteins['1'][0]  #protein object\n",
    "\n",
    "solver = tss()  #solver class\n",
    "solver.protein=poi\n",
    "\n",
    "t = np.linspace(0,500,501)\n"
   ]
  },
  {
   "cell_type": "code",
   "execution_count": 2,
   "metadata": {},
   "outputs": [
    {
     "name": "stderr",
     "output_type": "stream",
     "text": [
      "C:\\Users\\willi\\Documents\\GitHub\\rSNAPsim\\rss.py:3258: UserWarning: Matplotlib is currently using module://ipykernel.pylab.backend_inline, which is a non-GUI backend, so cannot show the figure.\n",
      "  fig.show()\n"
     ]
    },
    {
     "data": {
      "image/png": "[encoded data removed]",
      "text/plain": [
       "<Figure size 432x288 with 1 Axes>"
      ]
     },
     "metadata": {
      "needs_background": "light"
     },
     "output_type": "display_data"
    }
   ],
   "source": [
    "poi.visualize_probe()"
   ]
  },
  {
   "cell_type": "code",
   "execution_count": null,
   "metadata": {},
   "outputs": [],
   "source": [
    "\n",
    "#with recording and low memory\n",
    "sttime = time.time()\n",
    "solver.colors=2\n",
    "\n",
    "ssa_soln = solver.solve_ssa([.033] + poi.kelong + [10],t,n_traj=100)\n",
    "solvetime = time.time()-sttime\n",
    "print(ssa_soln.intensity_vec.shape)\n",
    "plt.plot(np.mean(ssa_soln.intensity_vec[0],axis=1),color='seagreen',alpha=1)\n",
    "plt.plot(np.mean(ssa_soln.intensity_vec[1],axis=1),color='violet',alpha=1)\n",
    "plt.xlabel('time')\n",
    "plt.ylabel('intensity')\n",
    "print(\"Low memory, no recording: solved in %f seconds\" % solvetime)\n",
    "\n"
   ]
  },
  {
   "cell_type": "markdown",
   "metadata": {},
   "source": [
    "### this is sort of boring, lets change up the probes a bit"
   ]
  },
  {
   "cell_type": "code",
   "execution_count": null,
   "metadata": {},
   "outputs": [],
   "source": [
    "print(poi.tag_epitopes)\n",
    "\n",
    "poi.tag_epitopes['T_Flag'] = [10,20,30,40,50,60,70]\n",
    "poi.tag_epitopes['T_Hemagglutinin'] = [300,330,400,430]\n",
    "\n",
    "solver.protein=poi\n",
    "\n",
    "poi.visualize_probe\n"
   ]
  },
  {
   "cell_type": "code",
   "execution_count": 3,
   "metadata": {},
   "outputs": [
    {
     "ename": "ValueError",
     "evalue": "cannot reshape array of size 1002 into shape (1,501)",
     "output_type": "error",
     "traceback": [
      "\u001b[1;31m---------------------------------------------------------------------------\u001b[0m",
      "\u001b[1;31mValueError\u001b[0m                                Traceback (most recent call last)",
      "\u001b[1;32m<ipython-input-3-c7df99d61d3e>\u001b[0m in \u001b[0;36m<module>\u001b[1;34m\u001b[0m\n\u001b[0;32m      1\u001b[0m \u001b[1;31m#Default settings, no stats recording and low memory\u001b[0m\u001b[1;33m\u001b[0m\u001b[1;33m\u001b[0m\u001b[1;33m\u001b[0m\u001b[0m\n\u001b[0;32m      2\u001b[0m \u001b[0msttime\u001b[0m \u001b[1;33m=\u001b[0m \u001b[0mtime\u001b[0m\u001b[1;33m.\u001b[0m\u001b[0mtime\u001b[0m\u001b[1;33m(\u001b[0m\u001b[1;33m)\u001b[0m\u001b[1;33m\u001b[0m\u001b[1;33m\u001b[0m\u001b[0m\n\u001b[1;32m----> 3\u001b[1;33m \u001b[0mssa_soln\u001b[0m \u001b[1;33m=\u001b[0m \u001b[0msolver\u001b[0m\u001b[1;33m.\u001b[0m\u001b[0msolve_ssa\u001b[0m\u001b[1;33m(\u001b[0m\u001b[1;33m[\u001b[0m\u001b[1;36m.033\u001b[0m\u001b[1;33m]\u001b[0m \u001b[1;33m+\u001b[0m \u001b[0mpoi\u001b[0m\u001b[1;33m.\u001b[0m\u001b[0mkelong\u001b[0m \u001b[1;33m+\u001b[0m \u001b[1;33m[\u001b[0m\u001b[1;36m10\u001b[0m\u001b[1;33m]\u001b[0m\u001b[1;33m,\u001b[0m\u001b[0mt\u001b[0m\u001b[1;33m,\u001b[0m\u001b[0mn_traj\u001b[0m\u001b[1;33m=\u001b[0m\u001b[1;36m100\u001b[0m\u001b[1;33m,\u001b[0m\u001b[0mrecord_stats\u001b[0m\u001b[1;33m=\u001b[0m\u001b[1;32mTrue\u001b[0m \u001b[1;33m)\u001b[0m\u001b[1;33m\u001b[0m\u001b[1;33m\u001b[0m\u001b[0m\n\u001b[0m\u001b[0;32m      4\u001b[0m \u001b[0msolvetime\u001b[0m \u001b[1;33m=\u001b[0m \u001b[0mtime\u001b[0m\u001b[1;33m.\u001b[0m\u001b[0mtime\u001b[0m\u001b[1;33m(\u001b[0m\u001b[1;33m)\u001b[0m\u001b[1;33m-\u001b[0m\u001b[0msttime\u001b[0m\u001b[1;33m\u001b[0m\u001b[1;33m\u001b[0m\u001b[0m\n\u001b[0;32m      5\u001b[0m \u001b[1;33m\u001b[0m\u001b[0m\n",
      "\u001b[1;32m~\\Documents\\GitHub\\rSNAPsim\\rss.py\u001b[0m in \u001b[0;36msolve_ssa\u001b[1;34m(self, k, t, x0, n_traj, bins, low_memory, perturb, leaky_probes, k_probe, record_stats, probe_vec)\u001b[0m\n\u001b[0;32m   2304\u001b[0m             \u001b[1;32mif\u001b[0m \u001b[0mleaky_probes\u001b[0m \u001b[1;33m==\u001b[0m \u001b[1;32mFalse\u001b[0m\u001b[1;33m:\u001b[0m\u001b[1;33m\u001b[0m\u001b[1;33m\u001b[0m\u001b[0m\n\u001b[0;32m   2305\u001b[0m                 \u001b[1;32mif\u001b[0m \u001b[0mlow_memory\u001b[0m\u001b[1;33m:\u001b[0m\u001b[1;33m\u001b[0m\u001b[1;33m\u001b[0m\u001b[0m\n\u001b[1;32m-> 2306\u001b[1;33m                     \u001b[0mssa_obj\u001b[0m \u001b[1;33m=\u001b[0m \u001b[0mself\u001b[0m\u001b[1;33m.\u001b[0m\u001b[0m__solve_ssa_lowmem\u001b[0m\u001b[1;33m(\u001b[0m\u001b[0mk\u001b[0m\u001b[1;33m,\u001b[0m\u001b[0mt\u001b[0m\u001b[1;33m,\u001b[0m\u001b[0mx0\u001b[0m\u001b[1;33m,\u001b[0m\u001b[0mn_traj\u001b[0m\u001b[1;33m,\u001b[0m \u001b[0mssa_conditions\u001b[0m \u001b[1;33m=\u001b[0m \u001b[0mssa_conditions\u001b[0m\u001b[1;33m)\u001b[0m\u001b[1;33m\u001b[0m\u001b[1;33m\u001b[0m\u001b[0m\n\u001b[0m\u001b[0;32m   2307\u001b[0m                 \u001b[1;32melse\u001b[0m\u001b[1;33m:\u001b[0m\u001b[1;33m\u001b[0m\u001b[1;33m\u001b[0m\u001b[0m\n\u001b[0;32m   2308\u001b[0m                     \u001b[0mssa_obj\u001b[0m \u001b[1;33m=\u001b[0m \u001b[0mself\u001b[0m\u001b[1;33m.\u001b[0m\u001b[0m__solve_ssa\u001b[0m\u001b[1;33m(\u001b[0m\u001b[0mk\u001b[0m\u001b[1;33m,\u001b[0m\u001b[0mt\u001b[0m\u001b[1;33m,\u001b[0m\u001b[0mx0\u001b[0m\u001b[1;33m,\u001b[0m\u001b[0mn_traj\u001b[0m\u001b[1;33m,\u001b[0m\u001b[0mssa_conditions\u001b[0m \u001b[1;33m=\u001b[0m \u001b[0mssa_conditions\u001b[0m\u001b[1;33m)\u001b[0m\u001b[1;33m\u001b[0m\u001b[1;33m\u001b[0m\u001b[0m\n",
      "\u001b[1;32m~\\Documents\\GitHub\\rSNAPsim\\rss.py\u001b[0m in \u001b[0;36m__solve_ssa_lowmem\u001b[1;34m(self, k, t, x0, n_traj, ssa_conditions)\u001b[0m\n\u001b[0;32m   2712\u001b[0m \u001b[1;33m\u001b[0m\u001b[0m\n\u001b[0;32m   2713\u001b[0m             \u001b[1;32mfor\u001b[0m \u001b[0mi\u001b[0m \u001b[1;32min\u001b[0m \u001b[0mrange\u001b[0m\u001b[1;33m(\u001b[0m\u001b[0mn_traj\u001b[0m\u001b[1;33m)\u001b[0m\u001b[1;33m:\u001b[0m\u001b[1;33m\u001b[0m\u001b[1;33m\u001b[0m\u001b[0m\n\u001b[1;32m-> 2714\u001b[1;33m                 \u001b[0msoln\u001b[0m \u001b[1;33m=\u001b[0m \u001b[0mall_results\u001b[0m\u001b[1;33m[\u001b[0m\u001b[0mi\u001b[0m\u001b[1;33m,\u001b[0m \u001b[1;33m:\u001b[0m\u001b[1;33m]\u001b[0m\u001b[1;33m.\u001b[0m\u001b[0mreshape\u001b[0m\u001b[1;33m(\u001b[0m\u001b[1;33m(\u001b[0m\u001b[0mN_rib\u001b[0m\u001b[1;33m,\u001b[0m \u001b[0mlen\u001b[0m\u001b[1;33m(\u001b[0m\u001b[0mt\u001b[0m\u001b[1;33m)\u001b[0m\u001b[1;33m)\u001b[0m\u001b[1;33m)\u001b[0m\u001b[1;33m\u001b[0m\u001b[1;33m\u001b[0m\u001b[0m\n\u001b[0m\u001b[0;32m   2715\u001b[0m \u001b[1;33m\u001b[0m\u001b[0m\n\u001b[0;32m   2716\u001b[0m                 \u001b[0mso\u001b[0m \u001b[1;33m=\u001b[0m \u001b[0msoln\u001b[0m\u001b[1;33m\u001b[0m\u001b[1;33m\u001b[0m\u001b[0m\n",
      "\u001b[1;31mValueError\u001b[0m: cannot reshape array of size 1002 into shape (1,501)"
     ]
    }
   ],
   "source": [
    "#Default settings, no stats recording and low memory\n",
    "sttime = time.time()\n",
    "ssa_soln = solver.solve_ssa([.033] + poi.kelong + [10],t,n_traj=100,record_stats=True )\n",
    "solvetime = time.time()-sttime\n",
    "\n",
    "plt.plot(ssa_soln.intensity_vec[0],color='seagreen',alpha=.4)\n",
    "plt.xlabel('time')\n",
    "plt.ylabel('intensity')\n",
    "print(\"Low memory, w/ recording: solved in %f seconds\" % solvetime)\n",
    "\n",
    "plt.figure()\n",
    "plt.plot(ssa_soln.collisions,'-o',color='seagreen')\n",
    "plt.xlabel('Position')\n",
    "plt.ylabel('Collision count')\n",
    "plt.title('Collisions per location over all 100 Trajectories')\n"
   ]
  },
  {
   "cell_type": "code",
   "execution_count": null,
   "metadata": {},
   "outputs": [],
   "source": [
    "#full solution, returns the ribosome positions\n",
    "sttime = time.time()\n",
    "ssa_soln = solver.solve_ssa([.033] + poi.kelong + [10],t,n_traj=100,record_stats=True,low_memory=False )\n",
    "solvetime = time.time()-sttime\n",
    "\n",
    "plt.plot(ssa_soln.intensity_vec[0],color='seagreen',alpha=.4)\n",
    "plt.xlabel('time')\n",
    "plt.ylabel('intensity')\n",
    "print(\"full memory, with recording: solved in %f seconds\" % solvetime)\n",
    "\n",
    "\n",
    "plt.figure()\n",
    "plt.plot(ssa_soln.solutions[0].T,'seagreen')\n",
    "plt.plot(ssa_soln.solutions[1].T,'violet')\n",
    "plt.ylabel('Position')\n",
    "plt.xlabel('Time')\n",
    "plt.title('2 Trajectories Ribosome posistion over time')\n",
    "\n"
   ]
  },
  {
   "cell_type": "markdown",
   "metadata": {},
   "source": [
    "### Intellegent Binning (focuses resolution on probe locations)"
   ]
  },
  {
   "cell_type": "code",
   "execution_count": null,
   "metadata": {},
   "outputs": [],
   "source": [
    "inds = pff.intellegent_bin(np.atleast_2d(poi.probe_loc),100)   \n",
    "binned_probe_locations,binned_probe_vector = pvf.bin_probe_vecs(poi.probe_loc,inds)\n",
    "kelong_bin = pff.bin_k(poi.kelong, inds)    #\n",
    "\n",
    "fig,ax = plt.subplots(2,2)\n",
    "\n",
    "ax[0,0].plot(poi.probe_loc[0],'-',color='seagreen')\n",
    "ax[0,0].set_ylabel('Original')\n",
    "\n",
    "ax[1,0].plot(binned_probe_locations[0],'-',color='seagreen')\n",
    "ax[1,0].set_xlabel('Length')\n",
    "ax[1,0].set_ylabel('Binned')\n",
    "\n",
    "ax[0,1].plot(poi.probe_vec[0],'-',color='seagreen')\n",
    "ax[1,1].plot(binned_probe_vector[0],'-',color='seagreen')\n",
    "ax[1,1].set_xlabel('Length')\n",
    "\n",
    "fig.show()\n",
    "\n",
    "\n",
    "plt.figure()\n",
    "plt.plot(inds[1:] - inds[:-1],color='seagreen')\n",
    "plt.ylabel('size of bin')\n",
    "plt.xlabel('bin')\n"
   ]
  },
  {
   "cell_type": "markdown",
   "metadata": {},
   "source": [
    "### Even Binning (bin the probe evenly as possible)"
   ]
  },
  {
   "cell_type": "code",
   "execution_count": null,
   "metadata": {},
   "outputs": [],
   "source": [
    "inds = pff.even_bin(poi.probe_loc.shape[1],100)   \n",
    "binned_probe_locations,binned_probe_vector = pvf.bin_probe_vecs(poi.probe_loc,inds)\n",
    "kelong_bin = pff.bin_k(poi.kelong, inds)    #\n",
    "\n",
    "fig,ax = plt.subplots(2,2)\n",
    "\n",
    "ax[0,0].plot(poi.probe_loc[0],'-',color='seagreen')\n",
    "ax[0,0].set_ylabel('Original')\n",
    "ax[1,0].plot(binned_probe_locations[0],'-',color='seagreen')\n",
    "ax[1,0].set_xlabel('Length')\n",
    "ax[1,0].set_ylabel('Binned')\n",
    "\n",
    "\n",
    "ax[0,1].plot(poi.probe_vec[0],'-',color='seagreen')\n",
    "ax[1,1].plot(binned_probe_vector[0],'-',color='seagreen')\n",
    "ax[1,1].set_xlabel('Length')\n",
    "fig.show()\n",
    "\n",
    "print(\"average size of bin: %f\" % np.mean(inds[1:] - inds[:-1]))\n"
   ]
  },
  {
   "cell_type": "markdown",
   "metadata": {},
   "source": [
    "### Binned SSA"
   ]
  },
  {
   "cell_type": "code",
   "execution_count": null,
   "metadata": {},
   "outputs": [],
   "source": [
    "#with recording and low memory\n",
    "\n",
    "\n",
    "inds = pff.intellegent_bin(np.atleast_2d(poi.probe_loc),200)   \n",
    "binned_probe_locations,binned_probe_vector = pvf.bin_probe_vecs(poi.probe_loc,inds)\n",
    "kelong_bin = pff.bin_k(poi.kelong, inds)    #\n",
    "\n",
    "print('average dwell time w/bins: ')\n",
    "print(np.sum(1/kelong_bin))\n",
    "print('average dwell time no bins: ')\n",
    "print(np.sum(1/np.array(poi.kelong)))\n",
    "\n",
    "sttime = time.time()\n",
    "ssa_soln = solver.solve_ssa([.033] + kelong_bin.tolist() + [10],t,n_traj=100, probe_vec =binned_probe_vector )\n",
    "solvetime = time.time()-sttime\n",
    "\n",
    "plt.plot(ssa_soln.intensity_vec[0],color='seagreen',alpha=.4)\n",
    "plt.xlabel('time')\n",
    "plt.ylabel('intensity')\n",
    "print(\"Low memory, no recording: solved in %f seconds\" % solvetime)\n"
   ]
  },
  {
   "cell_type": "markdown",
   "metadata": {},
   "source": [
    "### ODE solutions"
   ]
  },
  {
   "cell_type": "code",
   "execution_count": null,
   "metadata": {},
   "outputs": [],
   "source": [
    "## this should take about 40 seconds\n",
    "sttime = time.time()\n",
    "x0 = np.zeros((len(poi.kelong),1))\n",
    "ode_soln = tss().solve_ode(poi.kelong,   t, x0, .033,poi.probe_loc,corr=False)\n",
    "solvetime = time.time()-sttime\n",
    "#with recording and low memory\n",
    "\n",
    "ssa_soln = solver.solve_ssa([.033] + poi.kelong + [10],t,n_traj=30)\n",
    "\n",
    "\n",
    "plt.plot(ssa_soln.intensity_vec[0],color='seagreen',alpha=.4)\n",
    "plt.xlabel('time')\n",
    "plt.ylabel('intensity')\n",
    "plt.plot(ode_soln.mu_It.T,'k',lw=5)\n",
    "print(\"Full ODE solution: solved in %f seconds\" % solvetime)"
   ]
  },
  {
   "cell_type": "code",
   "execution_count": null,
   "metadata": {},
   "outputs": [],
   "source": [
    "\n",
    "# How about we bin it instead?\n",
    "inds = pff.intellegent_bin(np.atleast_2d(poi.probe_loc),100)\n",
    "bpl,bpv = pvf.bin_probe_vecs(poi.probe_loc,inds)\n",
    "k_bin = pff.bin_k(poi.kelong, inds)\n",
    "x0 = np.zeros((k_bin.shape[0],1))\n",
    "\n",
    "sttime = time.time()\n",
    "ode_soln_bin = tss().solve_ode(k_bin,   t, x0, .033, bpl,corr=False)\n",
    "solvetime = time.time()-sttime\n",
    "\n",
    "\n",
    "ssa_soln = solver.solve_ssa([.033] + poi.kelong + [10],t,n_traj=30)\n",
    "\n",
    "\n",
    "plt.plot(ssa_soln.intensity_vec[0],color='seagreen',alpha=.4)\n",
    "plt.xlabel('time')\n",
    "plt.ylabel('intensity')\n",
    "print(\"100 bin ODE solution: solved in %f seconds\" % solvetime)\n",
    "\n",
    "plt.plot(ode_soln_bin.mu_It.T,'k',lw=5)\n",
    "\n",
    "# Much faster!"
   ]
  },
  {
   "cell_type": "markdown",
   "metadata": {},
   "source": [
    "## ODE solution stats"
   ]
  },
  {
   "cell_type": "code",
   "execution_count": null,
   "metadata": {},
   "outputs": [],
   "source": [
    "## Other stuff from the ODE solution\n",
    "\n",
    "print( 'Average intensity at steady state: %f'% ode_soln.mu_I_ss)\n",
    "print( 'Variance of  intensity at steady state: %f'% ode_soln.var_I_ss)\n",
    "\n",
    "# average ribosomes at each location\n",
    "plt.plot(ode_soln.mu_state_ss,'.',color='seagreen')\n",
    "plt.xlabel('Transcript location (codon)')\n",
    "plt.ylabel('Average ribosome occupation')\n",
    "\n",
    "\n",
    "def movmean(a, n=3) :\n",
    "    ret = np.cumsum(a, dtype=float)\n",
    "    ret[n:] = ret[n:] - ret[:-n]\n",
    "    return ret[n - 1:] / n\n",
    "\n",
    "\n",
    "plt.plot(movmean(ode_soln.mu_state_ss,n=15),'.',color='red')\n",
    "plt.xlabel('Transcript location (codon)')\n",
    "plt.ylabel('Average ribosome occupation')\n",
    "\n",
    "plt.legend(['full','movmean'])"
   ]
  },
  {
   "cell_type": "markdown",
   "metadata": {},
   "source": [
    "## vs the binned solution\n",
    "\n",
    "Note how the resolution is binned towards the probe, and the non probe region was binned into about 15 bins and thus the ribosomal occupancy in those larger bins is longer."
   ]
  },
  {
   "cell_type": "code",
   "execution_count": null,
   "metadata": {},
   "outputs": [],
   "source": [
    "print( 'Average intensity at steady state: %f'% ode_soln_bin.mu_I_ss)\n",
    "print( 'Variance of  intensity at steady state: %f'% ode_soln_bin.var_I_ss)\n",
    "\n",
    "# average ribosomes at each location\n",
    "plt.plot(ode_soln_bin.mu_state_ss,'.',color='seagreen')\n",
    "plt.xlabel('Transcript location (bin)')\n",
    "plt.ylabel('Average ribosome occupation')\n",
    "plt.plot(movmean(ode_soln_bin.mu_state_ss,n=5),'-',color='red')\n",
    "plt.xlabel('Transcript location (codon)')\n",
    "plt.ylabel('Average ribosome occupation')\n"
   ]
  },
  {
   "cell_type": "code",
   "execution_count": null,
   "metadata": {},
   "outputs": [],
   "source": [
    "# Comparing the Intensity solutions from each\n",
    "\n",
    "\n",
    "plt.figure()\n",
    "plt.plot(ode_soln_bin.mu_It.T,'-',color = 'violet',lw=2)\n",
    "plt.plot(ode_soln.mu_It.T,'--',color ='seagreen',lw=2)\n",
    "plt.ylabel('intensity')\n",
    "plt.xlabel('time')\n",
    "plt.legend(['bin','full'])"
   ]
  },
  {
   "cell_type": "code",
   "execution_count": null,
   "metadata": {},
   "outputs": [],
   "source": []
  },
  {
   "cell_type": "code",
   "execution_count": null,
   "metadata": {},
   "outputs": [],
   "source": []
  }
 ],
 "metadata": {
  "kernelspec": {
   "display_name": "Python 3",
   "language": "python",
   "name": "python3"
  },
  "language_info": {
   "codemirror_mode": {
    "name": "ipython",
    "version": 3
   },
   "file_extension": ".py",
   "mimetype": "text/x-python",
   "name": "python",
   "nbconvert_exporter": "python",
   "pygments_lexer": "ipython3",
   "version": "3.6.10"
  }
 },
 "nbformat": 4,
 "nbformat_minor": 4
}
